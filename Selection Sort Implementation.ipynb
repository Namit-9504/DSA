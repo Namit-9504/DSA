{
 "cells": [
  {
   "cell_type": "code",
   "execution_count": 2,
   "metadata": {},
   "outputs": [
    {
     "name": "stdout",
     "output_type": "stream",
     "text": [
      "Array after selection Sort is  [11, 17, 20, 29, 37, 38, 50, 75]\n"
     ]
    }
   ],
   "source": [
    "##Defining Method\n",
    "# Time Complexity is : O(n^2)\n",
    "def selectionSort(arr):\n",
    "    n=len(arr)\n",
    "    for i in range(n):\n",
    "        ## Stoaring index in minimum element\n",
    "        min_idx = i\n",
    "        for j in range(i+1,n):\n",
    "            if arr[j]<arr[min_idx]:\n",
    "                min_idx = j\n",
    "        # Swap of the elements\n",
    "        arr[i],arr[min_idx] = arr[min_idx],arr[i]\n",
    "    return(arr)\n",
    "\n",
    " \n",
    "#Driver Code\n",
    "arr=[50,38,75,29,11,17,20,37]\n",
    "result=selectionSort(arr)\n",
    "print(\"Array after selection Sort is \",result)"
   ]
  },
  {
   "cell_type": "code",
   "execution_count": null,
   "metadata": {},
   "outputs": [],
   "source": []
  }
 ],
 "metadata": {
  "kernelspec": {
   "display_name": "Python 3",
   "language": "python",
   "name": "python3"
  },
  "language_info": {
   "codemirror_mode": {
    "name": "ipython",
    "version": 3
   },
   "file_extension": ".py",
   "mimetype": "text/x-python",
   "name": "python",
   "nbconvert_exporter": "python",
   "pygments_lexer": "ipython3",
   "version": "3.10.0"
  }
 },
 "nbformat": 4,
 "nbformat_minor": 2
}

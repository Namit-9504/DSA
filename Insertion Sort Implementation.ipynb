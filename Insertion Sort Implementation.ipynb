{
 "cells": [
  {
   "cell_type": "code",
   "execution_count": 4,
   "metadata": {},
   "outputs": [
    {
     "name": "stdout",
     "output_type": "stream",
     "text": [
      "Array after insertion sort is  [7, 50, 75, 85, 90, 95, 100, 100, 110]\n"
     ]
    }
   ],
   "source": [
    "# Function Method\n",
    "def InsertionSort(arr):\n",
    "    for i in range(1, len(arr)):\n",
    "        key = arr[i]\n",
    "        j=i-1\n",
    "\n",
    "        while j>=0 and key <arr[j]:\n",
    "            arr[j+1] =arr[j]\n",
    "            j=j-1\n",
    "        arr[j+1] =key\n",
    "    return(arr)\n",
    "\n",
    "\n",
    "\n",
    "#Driver Code\n",
    "arr = [75,90,100,95,85,50,100,110,7]\n",
    "# Function Calling\n",
    "result = InsertionSort(arr)\n",
    "print(\"Array after insertion sort is \", result)"
   ]
  },
  {
   "cell_type": "code",
   "execution_count": null,
   "metadata": {},
   "outputs": [],
   "source": []
  }
 ],
 "metadata": {
  "kernelspec": {
   "display_name": "Python 3",
   "language": "python",
   "name": "python3"
  },
  "language_info": {
   "codemirror_mode": {
    "name": "ipython",
    "version": 3
   },
   "file_extension": ".py",
   "mimetype": "text/x-python",
   "name": "python",
   "nbconvert_exporter": "python",
   "pygments_lexer": "ipython3",
   "version": "3.10.0"
  }
 },
 "nbformat": 4,
 "nbformat_minor": 2
}

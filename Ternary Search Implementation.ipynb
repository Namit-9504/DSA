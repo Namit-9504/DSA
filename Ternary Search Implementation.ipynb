{
 "cells": [
  {
   "cell_type": "code",
   "execution_count": 5,
   "metadata": {},
   "outputs": [
    {
     "name": "stdout",
     "output_type": "stream",
     "text": [
      "The Searching element is present at index -1\n"
     ]
    }
   ],
   "source": [
    "# Defining Function\n",
    "def ternarysearch(l,r,x,arr):\n",
    "    while l<=r:\n",
    "        mid1=l+(r-l)//3\n",
    "        mid2=r-(r-l)//3\n",
    "        if arr[mid1]==x:\n",
    "            return mid1\n",
    "        elif arr[mid2]==x:\n",
    "            return mid2\n",
    "        elif x<arr[mid1]:\n",
    "            return ternarysearch(l,mid1-1,x,arr)\n",
    "        elif x>arr[mid2]:\n",
    "            return ternarysearch(mid2+1,r,x,arr)\n",
    "        else:\n",
    "            return ternarysearch(mid1+1,mid2-1,x,arr)\n",
    "    return -1\n",
    "\n",
    "\n",
    "\n",
    "\n",
    "## Driver Code\n",
    "arr = [1,2,3,4,5,6,7,8,9,10]\n",
    "l = 0\n",
    "r=len(arr)-1\n",
    "x=80\n",
    "#function Calling\n",
    "result = ternarysearch(l,r,x,arr)\n",
    "print(\"The Searching element is present at index\",result)"
   ]
  },
  {
   "cell_type": "markdown",
   "metadata": {},
   "source": [
    "# With-out Resurrsion"
   ]
  },
  {
   "cell_type": "code",
   "execution_count": 13,
   "metadata": {},
   "outputs": [
    {
     "name": "stdout",
     "output_type": "stream",
     "text": [
      "The Searching element is present at index -1\n"
     ]
    }
   ],
   "source": [
    "# Defining Function\n",
    "def ternarysearch(l,r,x,arr):\n",
    "    while l<=r:\n",
    "        mid1=l+(r-l)//3\n",
    "        mid2=r-(r-l)//3\n",
    "        if arr[mid1]==x:\n",
    "            return mid1\n",
    "        elif arr[mid2]==x:\n",
    "            return mid2\n",
    "        elif x<arr[mid1]:\n",
    "            r=mid1-1\n",
    "        elif x>arr[mid2]:\n",
    "            l=mid2+1\n",
    "        else:\n",
    "            l = mid1+1\n",
    "            r = mid2-1\n",
    "    return -1\n",
    "\n",
    "\n",
    "\n",
    "\n",
    "## Driver Code\n",
    "arr = [1,2,3,4,5,6,7,8,9,10]\n",
    "l = 0\n",
    "r=len(arr)-1\n",
    "x=80\n",
    "#function Calling\n",
    "result = ternarysearch(l,r,x,arr)\n",
    "print(\"The Searching element is present at index\",result)"
   ]
  },
  {
   "cell_type": "code",
   "execution_count": null,
   "metadata": {},
   "outputs": [],
   "source": []
  }
 ],
 "metadata": {
  "kernelspec": {
   "display_name": "Python 3",
   "language": "python",
   "name": "python3"
  },
  "language_info": {
   "codemirror_mode": {
    "name": "ipython",
    "version": 3
   },
   "file_extension": ".py",
   "mimetype": "text/x-python",
   "name": "python",
   "nbconvert_exporter": "python",
   "pygments_lexer": "ipython3",
   "version": "3.10.0"
  }
 },
 "nbformat": 4,
 "nbformat_minor": 2
}

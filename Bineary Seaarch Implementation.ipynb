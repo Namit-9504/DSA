{
 "cells": [
  {
   "cell_type": "markdown",
   "metadata": {},
   "source": [
    "## Implementation Of Binary Search With Recurrsion"
   ]
  },
  {
   "cell_type": "code",
   "execution_count": 1,
   "metadata": {},
   "outputs": [
    {
     "name": "stdout",
     "output_type": "stream",
     "text": [
      "Searching Element is present in array at index  2\n"
     ]
    }
   ],
   "source": [
    "\n",
    "## Function Definitions\n",
    "def BinearySearch(arr,i,j,x):\n",
    "    while i <= j:\n",
    "        mid = i + (j-1)//2\n",
    "        if arr[mid]==x:\n",
    "            return mid\n",
    "        elif arr[mid]<x:\n",
    "            # Calling Recurrsion function\n",
    "            return BinearySearch(arr,mid+1,j,x)\n",
    "        else:\n",
    "            return BinearySearch(arr,i,mid-1,x)\n",
    "    return -1 #It means Searching element is not found\n",
    "        \n",
    "\n",
    "\n",
    "## Driver Code\n",
    "## Sorted Array\n",
    "arr = [2,5,6,8,9,10,16,19,21,26,40,56,68,90]\n",
    "i=0\n",
    "x=6\n",
    "j= len(arr)-1\n",
    "#Function Calling.\n",
    "result = BinearySearch(arr,i,j,x)\n",
    "print(\"Searching Element is present in array at index \",result)"
   ]
  },
  {
   "cell_type": "markdown",
   "metadata": {},
   "source": [
    "## Implementation Of Binary Search **Without**  Recurrsion"
   ]
  },
  {
   "cell_type": "code",
   "execution_count": 6,
   "metadata": {},
   "outputs": [
    {
     "name": "stdout",
     "output_type": "stream",
     "text": [
      "Searching Element is present in array at index  -1\n"
     ]
    }
   ],
   "source": [
    "\n",
    "## Function Definitions\n",
    "def BinearySearch(arr,i,j,x):\n",
    "    while i <= j:\n",
    "        mid = i + (j-1)//2\n",
    "        if arr[mid]==x:\n",
    "            return mid\n",
    "        elif arr[mid]<x:\n",
    "            # Updating the i parameter\n",
    "            i = mid + 1\n",
    "        else:\n",
    "            # Updating the j parameter\n",
    "            j = mid-1\n",
    "    return -1 #It means Searching element is not found\n",
    "        \n",
    "\n",
    "\n",
    "## Driver Code\n",
    "## Sorted Array\n",
    "arr = [2,5,6,8,9,10,16,19,21,26,40,56,68,90]\n",
    "i=0\n",
    "x=6852\n",
    "j= len(arr)-1\n",
    "#Function Calling.\n",
    "result = BinearySearch(arr,i,j,x)\n",
    "print(\"Searching Element is present in array at index \",result)"
   ]
  },
  {
   "cell_type": "code",
   "execution_count": 28,
   "metadata": {},
   "outputs": [],
   "source": [
    "array = [-13,0,2,3,5,6,8,90,float('inf'),float('inf')]"
   ]
  },
  {
   "cell_type": "markdown",
   "metadata": {},
   "source": [
    "## Interview Question On Binary Search"
   ]
  },
  {
   "cell_type": "code",
   "execution_count": 64,
   "metadata": {},
   "outputs": [
    {
     "name": "stdout",
     "output_type": "stream",
     "text": [
      "1st Infinity  Element is present in array at index  8\n"
     ]
    }
   ],
   "source": [
    "def BinearySearch(array,i,j,x):\n",
    "    while i <= j:\n",
    "        mid = i + (j-i)//2\n",
    "\n",
    "        if array[mid]==x:\n",
    "            for id in range(mid,0,-1):\n",
    "                if array[id]==x:\n",
    "                    return id\n",
    "            return mid\n",
    "        elif array[mid]<x:\n",
    "            i=mid+1\n",
    "        else:\n",
    "            j=mid-1\n",
    "    return -1\n",
    "\n",
    "\n",
    "\n",
    "\n",
    "array = [-13,0,2,3,5,6,8,90,float('inf'),float('inf')]\n",
    "array.sort()\n",
    "i=0\n",
    "j=len(array)-1\n",
    "x=float('inf')\n",
    "\n",
    "result = BinearySearch(array,i,j,x)\n",
    "print(\"1st Infinity  Element is present in array at index \",result)\n"
   ]
  },
  {
   "cell_type": "code",
   "execution_count": 49,
   "metadata": {},
   "outputs": [
    {
     "name": "stdout",
     "output_type": "stream",
     "text": [
      "1nd Inf Element is present in array at index  8\n"
     ]
    }
   ],
   "source": [
    "# In this approach the time complexity is very high\n",
    "array = [-13,0,2,3,5,6,8,90,float('inf'),float('inf')]\n",
    "def linearSearch(arr,x): \n",
    "    for i in range(len(arr)):\n",
    "        if arr[i]==x:\n",
    "            return(i)\n",
    "        \n",
    "    return -1\n",
    "array.sort()\n",
    "result = linearSearch(array,float('inf'))\n",
    "print(\"1nd Inf Element is present in array at index \",result)\n"
   ]
  }
 ],
 "metadata": {
  "kernelspec": {
   "display_name": "Python 3",
   "language": "python",
   "name": "python3"
  },
  "language_info": {
   "codemirror_mode": {
    "name": "ipython",
    "version": 3
   },
   "file_extension": ".py",
   "mimetype": "text/x-python",
   "name": "python",
   "nbconvert_exporter": "python",
   "pygments_lexer": "ipython3",
   "version": "3.10.0"
  }
 },
 "nbformat": 4,
 "nbformat_minor": 2
}

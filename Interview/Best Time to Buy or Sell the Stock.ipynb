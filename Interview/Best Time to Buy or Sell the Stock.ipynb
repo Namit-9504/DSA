{
 "cells": [
  {
   "cell_type": "code",
   "execution_count": 2,
   "metadata": {},
   "outputs": [
    {
     "name": "stdout",
     "output_type": "stream",
     "text": [
      "The maximum Profit is  12\n"
     ]
    }
   ],
   "source": [
    "#function Defination\n",
    "def findMaxProfit(prices):\n",
    "    min_price=float('inf')\n",
    "    max_profit=0\n",
    "\n",
    "    for i in range(len(prices)):\n",
    "        if prices[i]<min_price:\n",
    "            min_price=prices[i]\n",
    "        elif prices[i]-min_price>max_profit:\n",
    "            max_profit=prices[i]-min_price\n",
    "    return(max_profit)\n",
    "\n",
    "\n",
    "\n",
    "\n",
    "# Driver Code \n",
    "prices= [7,5,3,6,4,15]\n",
    "maxProfit= findMaxProfit(prices)\n",
    "print(\"The maximum Profit is \",maxProfit)"
   ]
  },
  {
   "cell_type": "code",
   "execution_count": null,
   "metadata": {},
   "outputs": [],
   "source": []
  }
 ],
 "metadata": {
  "kernelspec": {
   "display_name": "Python 3",
   "language": "python",
   "name": "python3"
  },
  "language_info": {
   "codemirror_mode": {
    "name": "ipython",
    "version": 3
   },
   "file_extension": ".py",
   "mimetype": "text/x-python",
   "name": "python",
   "nbconvert_exporter": "python",
   "pygments_lexer": "ipython3",
   "version": "3.10.0"
  }
 },
 "nbformat": 4,
 "nbformat_minor": 2
}

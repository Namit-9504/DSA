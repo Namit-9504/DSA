{
 "cells": [
  {
   "cell_type": "markdown",
   "metadata": {},
   "source": [
    "# Find Out that points are colinear or not"
   ]
  },
  {
   "cell_type": "code",
   "execution_count": 3,
   "metadata": {},
   "outputs": [
    {
     "name": "stdout",
     "output_type": "stream",
     "text": [
      "Given Points are Not collinear\n"
     ]
    }
   ],
   "source": [
    "# Apporch no 1\n",
    "# Method Definations --------------------------------\n",
    "def iscollinearPoints(x1, x2, x3,y1, y2,y3):\n",
    "    if ((y2-y1)*(x3-x2))==((y3-y2)*(x2-x1)):\n",
    "        print(\"Given Points are collinear\")\n",
    "    else:\n",
    "        print(\"Given Points are Not collinear\")\n",
    "\n",
    "\n",
    "\n",
    "# Driver Code\n",
    "x1,x2,x3,y1,y2,y3=1,2,3,6,0,9\n",
    "iscollinearPoints(x1,x2,x3,y1,y2,y3)"
   ]
  },
  {
   "cell_type": "code",
   "execution_count": 7,
   "metadata": {},
   "outputs": [
    {
     "name": "stdout",
     "output_type": "stream",
     "text": [
      "Given Points are colinear\n"
     ]
    }
   ],
   "source": [
    "#Apporch no 2 area of triangle\n",
    "\n",
    "def iscollinearPoints(x1, x2, x3,y1, y2,y3):\n",
    "    area = 0.5*(x1*(y2-y3)+x2*(y3-y1)+x3*(y1-y2))\n",
    "    if area ==0:\n",
    "        print(\"Given Points are colinear\")\n",
    "    else:\n",
    "        print(\"Given Points are Not colinear\")\n",
    "\n",
    "\n",
    "\n",
    "# Driver Code\n",
    "x1,x2,x3,y1,y2,y3=1,1,1,6,0,9\n",
    "iscollinearPoints(x1,x2,x3,y1,y2,y3)"
   ]
  },
  {
   "cell_type": "code",
   "execution_count": null,
   "metadata": {},
   "outputs": [],
   "source": []
  }
 ],
 "metadata": {
  "kernelspec": {
   "display_name": "Python 3",
   "language": "python",
   "name": "python3"
  },
  "language_info": {
   "codemirror_mode": {
    "name": "ipython",
    "version": 3
   },
   "file_extension": ".py",
   "mimetype": "text/x-python",
   "name": "python",
   "nbconvert_exporter": "python",
   "pygments_lexer": "ipython3",
   "version": "3.10.0"
  }
 },
 "nbformat": 4,
 "nbformat_minor": 2
}
